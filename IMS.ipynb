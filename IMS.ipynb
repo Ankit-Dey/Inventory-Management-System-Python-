{
  "nbformat": 4,
  "nbformat_minor": 0,
  "metadata": {
    "colab": {
      "name": "IMS.ipynb",
      "provenance": []
    },
    "kernelspec": {
      "name": "python3",
      "display_name": "Python 3"
    },
    "language_info": {
      "name": "python"
    }
  },
  "cells": [
    {
      "cell_type": "code",
      "metadata": {
        "id": "t-S1peODm7qS"
      },
      "source": [
        "import os\n",
        "import json\n"
      ],
      "execution_count": 23,
      "outputs": []
    },
    {
      "cell_type": "code",
      "metadata": {
        "id": "WkTLrbd0nOcg"
      },
      "source": [
        "def data_entry():\n",
        "  fd=open(\"data.json\",\"r\")\n",
        "  r=fd.read()\n",
        "  fd.close()\n",
        "  #data=defaultdict(dict)\n",
        "  data=json.loads(r)\n",
        "\n",
        "  pid=str(input(\"Enter product id :\"))\n",
        "  quantity=int(input(\"Enter product quantity :\"))\n",
        "  if(pid in data.keys()):\n",
        "    print(\"Product exists quantity updated.\\n\")\n",
        "    data[pid]['quantity']=data[pid]['quantity']+quantity\n",
        "  else:\n",
        "    print(\"Product Doesn't exist , enter the following details: \\n\")\n",
        "    name=input(\"Enter product name :\")\n",
        "    expdate=input(\"Enter product expiry date(dd/mm/yyyy) :\")\n",
        "    category=input(\"Enter product category :\")\n",
        "    price=float(input(\"Enter product price :\"))\n",
        "    data[pid]={'name':name,'expdate':expdate,'category':category,'price':price,'quantity':quantity}\n",
        "    print(\"Product Successfully added to inventory.\\n \")\n",
        "  js=json.dumps(data)\n",
        "  fd=open(\"data.json\",\"w\")\n",
        "  fd.write(js)\n",
        "  fd.close()\n",
        "def getpid():  \n",
        "  pid=str(input('Enter Product ID: '))\n",
        "  qn=int(input(\"Quantity: \"))\n",
        "  for j in range(qn):\n",
        "    purchase(pid)\n",
        "  print('\\nInventory details updated\\n')\n",
        "def purchase(pid):\n",
        "  fd=open(\"data.json\",\"r\")\n",
        "  r=fd.read()\n",
        "  fd.close()\n",
        "  #data=defaultdict(dict)\n",
        "  data=json.loads(r)\n",
        "  data[pid]['quantity']=data[pid]['quantity'] - 1\n",
        "  js=json.dumps(data)\n",
        "  fd=open(\"data.json\",\"w\")\n",
        "  fd.write(js)\n",
        "  fd.close()\n",
        "\n",
        "def switcher(a):\n",
        "  if(a==1):\n",
        "    data_entry()\n",
        "  elif(a==2):\n",
        "    getpid()\n",
        "  else:\n",
        "    print(\"Invalid option!\")"
      ],
      "execution_count": 31,
      "outputs": []
    },
    {
      "cell_type": "code",
      "metadata": {
        "colab": {
          "base_uri": "https://localhost:8080/"
        },
        "id": "zwrJn7Ebngc-",
        "outputId": "8e9cd53d-33ef-4fde-9f5b-9900693cc68c"
      },
      "source": [
        "choice=int(input(\"Enter 1 for data entry\\nEnter 2 for customer purchase\\n\"))\n",
        "switcher(choice)"
      ],
      "execution_count": 30,
      "outputs": [
        {
          "name": "stdout",
          "output_type": "stream",
          "text": [
            "Enter 1 for data entry\n",
            "Enter 2 for customer purchase\n",
            "2\n",
            "Enter Product ID: 1\n",
            "Quantity: 2\n"
          ]
        }
      ]
    },
    {
      "cell_type": "code",
      "metadata": {
        "id": "Zt01fMZBVEoQ"
      },
      "source": [
        "11"
      ],
      "execution_count": null,
      "outputs": []
    }
  ]
}